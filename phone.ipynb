{
  "nbformat": 4,
  "nbformat_minor": 0,
  "metadata": {
    "colab": {
      "provenance": [],
      "authorship_tag": "ABX9TyOF6bAjgWPi03CYHvBzCVan",
      "include_colab_link": true
    },
    "kernelspec": {
      "name": "python3",
      "display_name": "Python 3"
    },
    "language_info": {
      "name": "python"
    }
  },
  "cells": [
    {
      "cell_type": "markdown",
      "metadata": {
        "id": "view-in-github",
        "colab_type": "text"
      },
      "source": [
        "<a href=\"https://colab.research.google.com/github/raunakyadav92/phone-usage-tracker-app/blob/main/phone.ipynb\" target=\"_parent\"><img src=\"https://colab.research.google.com/assets/colab-badge.svg\" alt=\"Open In Colab\"/></a>"
      ]
    },
    {
      "cell_type": "code",
      "execution_count": null,
      "metadata": {
        "id": "sort1i_yaUZE"
      },
      "outputs": [],
      "source": [
        "import datetime\n",
        "\n",
        "usage_log = []\n",
        "\n",
        "def log_usage(app_name, minutes):\n",
        "    usage_log.append({\n",
        "        \"app\": app_name,\n",
        "        \"minutes\": minutes,\n",
        "        \"date\": datetime.datetime.now().strftime(\"%Y-%m-%d\")\n",
        "    })\n",
        "\n",
        "def show_summary():\n",
        "    total = sum(u['minutes'] for u in usage_log)\n",
        "    print(f\"\\n📊 Total Usage Today: {total} minutes\")\n",
        "    for u in usage_log:\n",
        "        print(f\"{u['app']} — {u['minutes']} minutes\")\n",
        "\n",
        "# Example Usage:\n",
        "log_usage(\"YouTube\", 45)\n",
        "log_usage(\"Instagram\", 30)\n",
        "show_summary()\n"
      ]
    }
  ]
}